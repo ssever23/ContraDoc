{
 "cells": [
  {
   "cell_type": "code",
   "execution_count": 1,
   "metadata": {},
   "outputs": [
    {
     "name": "stdout",
     "output_type": "stream",
     "text": [
      "2.2.1+cu118\n"
     ]
    }
   ],
   "source": [
    "#huggingface libraries \n",
    "import transformers\n",
    "from transformers import BertTokenizer, BertForSequenceClassification\n",
    "from transformers import XLMRobertaTokenizer, XLMRobertaForSequenceClassification, XLMRobertaConfig, RobertaForSequenceClassification\n",
    "from transformers import AdamW, get_linear_schedule_with_warmup\n",
    "from transformers import TFAutoModel, AutoTokenizer\n",
    "\n",
    "#torch\n",
    "import torch\n",
    "import torch.nn as nn\n",
    "import torch.nn.functional as F\n",
    "import torch.optim as optim\n",
    "from torch.utils.data import DataLoader, RandomSampler, SequentialSampler, Dataset, TensorDataset\n",
    "\n",
    "#random libraries\n",
    "from tqdm import tqdm\n",
    "import pandas as pd\n",
    "import numpy as np\n",
    "import os\n",
    "import gc\n",
    "import random\n",
    "\n",
    "#viz\n",
    "import matplotlib.pyplot as plt\n",
    "import seaborn as sns\n",
    "\n",
    "# set a seed value\n",
    "torch.manual_seed(555)\n",
    "\n",
    "from sklearn.model_selection import train_test_split\n",
    "from sklearn.utils import shuffle\n",
    "from sklearn.metrics import roc_auc_score, accuracy_score, precision_score, recall_score, precision_recall_fscore_support\n",
    "\n",
    "import warnings\n",
    "warnings.filterwarnings(\"ignore\")\n",
    "\n",
    "print(torch.__version__)"
   ]
  },
  {
   "cell_type": "markdown",
   "metadata": {},
   "source": [
    "##### **Load NLI dataset into dataframe**"
   ]
  },
  {
   "cell_type": "code",
   "execution_count": 2,
   "metadata": {},
   "outputs": [],
   "source": [
    "dataset = pd.read_csv('C:/Users/Admin/projects/roBERTa-tuning/nli_data_set.csv')"
   ]
  },
  {
   "cell_type": "markdown",
   "metadata": {},
   "source": [
    "#### **Split the Dataset into Train and Test**"
   ]
  },
  {
   "cell_type": "code",
   "execution_count": 3,
   "metadata": {},
   "outputs": [
    {
     "name": "stdout",
     "output_type": "stream",
     "text": [
      "Train data: (2692, 5) \n",
      "\n",
      "Test data: (300, 5) \n",
      "\n"
     ]
    }
   ],
   "source": [
    "train, test = train_test_split(dataset, stratify=dataset.label.values, \n",
    "                                                  random_state=42, \n",
    "                                                  test_size=0.1, shuffle=True)\n",
    "\n",
    "train.reset_index(drop=True, inplace=True)\n",
    "test.reset_index(drop=True, inplace=True)\n",
    "\n",
    "# check the number of rows and columns after split\n",
    "print(\"Train data: {} \\n\".format(train.shape))\n",
    "print(\"Test data: {} \\n\".format(test.shape))"
   ]
  },
  {
   "cell_type": "code",
   "execution_count": 4,
   "metadata": {},
   "outputs": [],
   "source": [
    "#df_check = train\n",
    "#styled_df = df_check.style.set_properties(**{'text-align': 'left'})\n",
    "#styled_df.set_table_styles([dict(selector='th', props=[('text-align', 'left')])])"
   ]
  },
  {
   "cell_type": "markdown",
   "metadata": {},
   "source": [
    "#### **Initiate cuda**"
   ]
  },
  {
   "cell_type": "code",
   "execution_count": 5,
   "metadata": {},
   "outputs": [
    {
     "name": "stdout",
     "output_type": "stream",
     "text": [
      "Device type: cuda\n",
      "There are 1 GPU(s) available.\n",
      "GPU is: NVIDIA GeForce RTX 3090\n"
     ]
    }
   ],
   "source": [
    "device = torch.device('cuda' if torch.cuda.is_available() else 'cpu')\n",
    "print('Device type:', device)\n",
    "print('There are %d GPU(s) available.' % torch.cuda.device_count())\n",
    "print('GPU is:', torch.cuda.get_device_name(0))"
   ]
  },
  {
   "cell_type": "markdown",
   "metadata": {},
   "source": [
    "#### **Load tokenizer**"
   ]
  },
  {
   "cell_type": "code",
   "execution_count": 6,
   "metadata": {},
   "outputs": [],
   "source": [
    "tokenizer = AutoTokenizer.from_pretrained('roberta-large')"
   ]
  },
  {
   "cell_type": "markdown",
   "metadata": {},
   "source": [
    "#### **Hyperparameter settings**"
   ]
  },
  {
   "cell_type": "code",
   "execution_count": 8,
   "metadata": {},
   "outputs": [],
   "source": [
    "# Configuration\n",
    "model_name = 'roberta-large'\n",
    "# model_name = 'bert-base-uncased'\n",
    "BATCH_SIZE = 24\n",
    "MAX_LENGTH = 256\n",
    "NUM_EPOCHS = 60\n",
    "L_RATE = 5.536685540358055e-06\n",
    "# NUM_CORES = os.cpu_count()\n",
    "# NUM_CORES"
   ]
  },
  {
   "cell_type": "markdown",
   "metadata": {},
   "source": [
    "#### **Encode input sequence**"
   ]
  },
  {
   "cell_type": "code",
   "execution_count": 9,
   "metadata": {},
   "outputs": [],
   "source": [
    "def preprocess(data, tokenizer):\n",
    "    kwargs = { 'truncation': True,\n",
    "    'max_length': MAX_LENGTH,\n",
    "    'padding': 'max_length',\n",
    "    'return_attention_mask': True, \n",
    "    'return_token_type_ids': True     \n",
    "    }\n",
    "    datalist = list(zip(data['premise'], data['hypothesis']))\n",
    "    tokenized = tokenizer.batch_encode_plus(datalist,**kwargs)\n",
    "    input_ids = torch.LongTensor(tokenized.input_ids)\n",
    "    attention_masks = torch.LongTensor(tokenized.attention_mask)\n",
    "    token_type_ids = torch.LongTensor(tokenized.token_type_ids)\n",
    "    return input_ids, attention_masks, token_type_ids"
   ]
  },
  {
   "cell_type": "code",
   "execution_count": 10,
   "metadata": {},
   "outputs": [
    {
     "data": {
      "text/plain": [
       "113"
      ]
     },
     "execution_count": 10,
     "metadata": {},
     "output_type": "execute_result"
    }
   ],
   "source": [
    "# Encode train set\n",
    "\n",
    "input_ids, attention_masks, token_type_ids = preprocess(train, tokenizer)\n",
    "labels = torch.Tensor(train['label']).reshape(-1, 1)\n",
    "train_dataset_final = TensorDataset(input_ids, attention_masks, token_type_ids,labels)\n",
    "train_dataloader = DataLoader(train_dataset_final, sampler=RandomSampler(train_dataset_final), batch_size=BATCH_SIZE)\n",
    "len(train_dataloader)"
   ]
  },
  {
   "cell_type": "code",
   "execution_count": 11,
   "metadata": {},
   "outputs": [
    {
     "data": {
      "text/plain": [
       "13"
      ]
     },
     "execution_count": 11,
     "metadata": {},
     "output_type": "execute_result"
    }
   ],
   "source": [
    "# Encode test set\n",
    "\n",
    "input_ids_test, attention_masks_test, token_type_ids_test = preprocess(test,tokenizer)\n",
    "labels = torch.Tensor(test['label']).reshape(-1, 1)\n",
    "test_dataset_final = TensorDataset(input_ids_test, attention_masks_test, token_type_ids_test,labels)\n",
    "test_dataloader = DataLoader(test_dataset_final, sampler=SequentialSampler(test_dataset_final), batch_size=BATCH_SIZE)\n",
    "len(test_dataloader)"
   ]
  },
  {
   "cell_type": "markdown",
   "metadata": {},
   "source": [
    "#### **Load classification model**"
   ]
  },
  {
   "cell_type": "code",
   "execution_count": 12,
   "metadata": {},
   "outputs": [
    {
     "name": "stderr",
     "output_type": "stream",
     "text": [
      "Some weights of RobertaForSequenceClassification were not initialized from the model checkpoint at roberta-large and are newly initialized: ['classifier.dense.bias', 'classifier.dense.weight', 'classifier.out_proj.bias', 'classifier.out_proj.weight']\n",
      "You should probably TRAIN this model on a down-stream task to be able to use it for predictions and inference.\n"
     ]
    },
    {
     "data": {
      "text/plain": [
       "RobertaForSequenceClassification(\n",
       "  (roberta): RobertaModel(\n",
       "    (embeddings): RobertaEmbeddings(\n",
       "      (word_embeddings): Embedding(50265, 1024, padding_idx=1)\n",
       "      (position_embeddings): Embedding(514, 1024, padding_idx=1)\n",
       "      (token_type_embeddings): Embedding(1, 1024)\n",
       "      (LayerNorm): LayerNorm((1024,), eps=1e-05, elementwise_affine=True)\n",
       "      (dropout): Dropout(p=0.1, inplace=False)\n",
       "    )\n",
       "    (encoder): RobertaEncoder(\n",
       "      (layer): ModuleList(\n",
       "        (0-23): 24 x RobertaLayer(\n",
       "          (attention): RobertaAttention(\n",
       "            (self): RobertaSelfAttention(\n",
       "              (query): Linear(in_features=1024, out_features=1024, bias=True)\n",
       "              (key): Linear(in_features=1024, out_features=1024, bias=True)\n",
       "              (value): Linear(in_features=1024, out_features=1024, bias=True)\n",
       "              (dropout): Dropout(p=0.1, inplace=False)\n",
       "            )\n",
       "            (output): RobertaSelfOutput(\n",
       "              (dense): Linear(in_features=1024, out_features=1024, bias=True)\n",
       "              (LayerNorm): LayerNorm((1024,), eps=1e-05, elementwise_affine=True)\n",
       "              (dropout): Dropout(p=0.1, inplace=False)\n",
       "            )\n",
       "          )\n",
       "          (intermediate): RobertaIntermediate(\n",
       "            (dense): Linear(in_features=1024, out_features=4096, bias=True)\n",
       "            (intermediate_act_fn): GELUActivation()\n",
       "          )\n",
       "          (output): RobertaOutput(\n",
       "            (dense): Linear(in_features=4096, out_features=1024, bias=True)\n",
       "            (LayerNorm): LayerNorm((1024,), eps=1e-05, elementwise_affine=True)\n",
       "            (dropout): Dropout(p=0.1, inplace=False)\n",
       "          )\n",
       "        )\n",
       "      )\n",
       "    )\n",
       "  )\n",
       "  (classifier): RobertaClassificationHead(\n",
       "    (dense): Linear(in_features=1024, out_features=1024, bias=True)\n",
       "    (dropout): Dropout(p=0.1, inplace=False)\n",
       "    (out_proj): Linear(in_features=1024, out_features=11, bias=True)\n",
       "  )\n",
       ")"
      ]
     },
     "execution_count": 12,
     "metadata": {},
     "output_type": "execute_result"
    }
   ],
   "source": [
    "#model = BertForSequenceClassification.from_pretrained(model_name, num_labels=11, output_hidden_states=False, output_attentions=False, problem_type=\"multi_label_classification\")\n",
    "model = RobertaForSequenceClassification.from_pretrained(model_name, num_labels=11)\n",
    "#model = XLMRobertaForSequenceClassification.from_pretrained(model_name, num_labels=11)\n",
    "#config = XLMRobertaConfig.from_pretrained(model_name)\n",
    "#config.num_labels = 11\n",
    "#model = XLMRobertaForSequenceClassification(config)\n",
    "model.to(device)"
   ]
  },
  {
   "cell_type": "markdown",
   "metadata": {},
   "source": [
    "#### **Load and process data into batches**"
   ]
  },
  {
   "cell_type": "code",
   "execution_count": 13,
   "metadata": {},
   "outputs": [],
   "source": [
    "num_classes = dataset['label'].nunique()"
   ]
  },
  {
   "cell_type": "markdown",
   "metadata": {},
   "source": [
    "#### **Train the model**"
   ]
  },
  {
   "cell_type": "code",
   "execution_count": 14,
   "metadata": {},
   "outputs": [],
   "source": [
    "# Load optimizer\n",
    "optimizer = AdamW(model.parameters(),\n",
    "              lr = L_RATE, \n",
    "              eps = 1e-8\n",
    "            )"
   ]
  },
  {
   "cell_type": "code",
   "execution_count": 15,
   "metadata": {},
   "outputs": [
    {
     "data": {
      "text/plain": [
       "198"
      ]
     },
     "execution_count": 15,
     "metadata": {},
     "output_type": "execute_result"
    }
   ],
   "source": [
    "# Garbage collector to free up memory\n",
    "torch.cuda.empty_cache()\n",
    "gc.collect()"
   ]
  },
  {
   "cell_type": "code",
   "execution_count": 16,
   "metadata": {},
   "outputs": [],
   "source": [
    "seed_val = 1024\n",
    "\n",
    "random.seed(seed_val)\n",
    "np.random.seed(seed_val)\n",
    "torch.manual_seed(seed_val)\n",
    "torch.cuda.manual_seed_all(seed_val)"
   ]
  },
  {
   "cell_type": "code",
   "execution_count": 17,
   "metadata": {},
   "outputs": [
    {
     "name": "stderr",
     "output_type": "stream",
     "text": [
      "4it [00:09,  2.37s/it]\n"
     ]
    },
    {
     "ename": "KeyboardInterrupt",
     "evalue": "",
     "output_type": "error",
     "traceback": [
      "\u001b[1;31m---------------------------------------------------------------------------\u001b[0m",
      "\u001b[1;31mKeyboardInterrupt\u001b[0m                         Traceback (most recent call last)",
      "Cell \u001b[1;32mIn[17], line 36\u001b[0m\n\u001b[0;32m     33\u001b[0m outputs \u001b[38;5;241m=\u001b[39m model(input_ids, token_type_ids\u001b[38;5;241m=\u001b[39mtoken_type_ids, attention_mask\u001b[38;5;241m=\u001b[39mattention_masks, labels\u001b[38;5;241m=\u001b[39mlabels)\n\u001b[0;32m     35\u001b[0m loss\u001b[38;5;241m=\u001b[39moutputs[\u001b[38;5;241m0\u001b[39m]\n\u001b[1;32m---> 36\u001b[0m total_train_loss\u001b[38;5;241m+\u001b[39m\u001b[38;5;241m=\u001b[39m\u001b[43mloss\u001b[49m\u001b[38;5;241;43m.\u001b[39;49m\u001b[43mitem\u001b[49m\u001b[43m(\u001b[49m\u001b[43m)\u001b[49m\n\u001b[0;32m     37\u001b[0m optimizer\u001b[38;5;241m.\u001b[39mzero_grad()\n\u001b[0;32m     38\u001b[0m loss\u001b[38;5;241m.\u001b[39mbackward()\n",
      "\u001b[1;31mKeyboardInterrupt\u001b[0m: "
     ]
    }
   ],
   "source": [
    "train_loss = []\n",
    "test_loss = []\n",
    "accuracies = []\n",
    "\n",
    "val_preds_total = []\n",
    "true_classes_total = []\n",
    "\n",
    "# Set cross-entropy loss as loss function\n",
    "#criterion = torch.nn.CrossEntropyLoss()\n",
    "\n",
    "# Create scheduler\n",
    "total_steps = len(train_dataloader) * NUM_EPOCHS\n",
    "scheduler = get_linear_schedule_with_warmup(optimizer,\n",
    "                                            num_warmup_steps = 0,\n",
    "                                            num_training_steps = total_steps)\n",
    "\n",
    "# Early stopping settings\n",
    "patience = 10\n",
    "best_loss = float('inf')\n",
    "patience_counter = 0\n",
    "\n",
    "for epoch in range(NUM_EPOCHS):\n",
    "    model.train()\n",
    "    torch.set_grad_enabled(True)\n",
    "    total_train_loss=0\n",
    "    \n",
    "    for i,batch in tqdm(enumerate(train_dataloader)):\n",
    "        model.zero_grad()\n",
    "        input_ids, attention_masks, token_type_ids, labels=(batch[0].to(device), \n",
    "                                                            batch[1].to(device), \n",
    "                                                            batch[2].to(device), \n",
    "                                                            torch.nn.functional.one_hot(batch[3].to(torch.int64), num_classes=num_classes).squeeze(1).float().to(device))\n",
    "        outputs = model(input_ids, token_type_ids=token_type_ids, attention_mask=attention_masks, labels=labels)\n",
    "\n",
    "        loss=outputs[0]\n",
    "        total_train_loss+=loss.item()\n",
    "        optimizer.zero_grad()\n",
    "        loss.backward()\n",
    "\n",
    "        # clip the norm of the gradients to 1.0.\n",
    "        torch.nn.utils.clip_grad_norm_(model.parameters(), 1.0)\n",
    "\n",
    "        # update optimizer\n",
    "        optimizer.step()\n",
    "\n",
    "        # update scheduler\n",
    "        #scheduler.step()\n",
    "    \n",
    "    print(f'Training loss on epoch {epoch + 1}: {total_train_loss}\\n')\n",
    "    train_loss.append(total_train_loss)\n",
    "\n",
    "    # Testing\n",
    "    \n",
    "    stacked_val_labels = []\n",
    "    true_labels = []\n",
    "    model.eval()\n",
    "\n",
    "    #torch.set_grad_enabled(False)\n",
    "    total_test_loss = 0\n",
    "\n",
    "    for j, batch in tqdm(enumerate(test_dataloader)):\n",
    "         \n",
    "        with torch.no_grad():\n",
    "            input_ids, attention_masks, token_type_ids,labels=(batch[0].to(device), \n",
    "                                                            batch[1].to(device), \n",
    "                                                            batch[2].to(device),\n",
    "                                                    torch.nn.functional.one_hot(batch[3].to(torch.int64), num_classes=num_classes).squeeze(1).float().to(device))\n",
    "            outputs = model(input_ids, token_type_ids=token_type_ids, attention_mask=attention_masks,labels = labels)\n",
    "\n",
    "        #comment\n",
    "        loss = outputs[0]\n",
    "        logits = outputs.logits\n",
    "        true = batch[3]\n",
    "\n",
    "        val_preds = logits.detach().cpu().numpy()\n",
    "        total_test_loss += loss.item()\n",
    "        if j == 0:  # first batch\n",
    "            stacked_val_preds = val_preds\n",
    "            true_labels = true\n",
    "\n",
    "        else:\n",
    "            stacked_val_preds = np.vstack((stacked_val_preds, val_preds))\n",
    "            true_labels = np.vstack((true_labels, true))\n",
    "            #stacked_val_preds.extend(val_preds)\n",
    "        #print(len(stacked_val_preds))\n",
    "    \n",
    "    print(f'------------------------------------\\nTest loss on epoch {epoch + 1}: {total_test_loss}\\n------------------------------------\\n')\n",
    "\n",
    "    # Early stopping\n",
    "\n",
    "    test_loss.append(total_test_loss)\n",
    "\n",
    "    val_preds_total.append(np.argmax(stacked_val_preds, axis=1))\n",
    "    true_classes_total.append(true_labels.flatten().astype('int64'))\n",
    "    accuracies.append(np.sum(val_preds_total[epoch] == true_classes_total[epoch])/len(val_preds_total[epoch]))\n",
    "\n",
    "    if total_test_loss < best_loss:\n",
    "        best_loss = total_test_loss\n",
    "        patience_counter = 0\n",
    "        # Save the model\n",
    "        #torch.save(model.state_dict(), f\"best_model_search{search+1}.pt\")\n",
    "        #stop_epochs += 1 \n",
    "    else:\n",
    "        patience_counter += 1\n",
    "        #stop_epochs += 1\n",
    "\n",
    "    if patience_counter >= patience:\n",
    "            print(f\"Early stopping triggered at epoch {epoch+1}!\")\n",
    "            break"
   ]
  },
  {
   "cell_type": "markdown",
   "metadata": {},
   "source": [
    "#### **Testing**"
   ]
  },
  {
   "cell_type": "code",
   "execution_count": 19,
   "metadata": {},
   "outputs": [
    {
     "data": {
      "image/png": "[encoded data removed]",
      "text/plain": [
       "<Figure size 500x300 with 1 Axes>"
      ]
     },
     "metadata": {},
     "output_type": "display_data"
    }
   ],
   "source": [
    "import matplotlib.pyplot as plt\n",
    "\n",
    "epochs = list(range(1, 16 + 1))\n",
    "\n",
    "# Normalize losses for visualization\n",
    "max_train_loss = max(train_loss)\n",
    "training_loss_normalized = [loss / max_train_loss for loss in train_loss]\n",
    "max_test_loss = max(test_loss)\n",
    "test_loss_normalized = [loss / max_test_loss for loss in test_loss]\n",
    "\n",
    "# Create the plot\n",
    "plt.figure(figsize=(5, 3))\n",
    "plt.plot(epochs, training_loss_normalized, label='train loss', color='blue')\n",
    "plt.plot(epochs, test_loss_normalized, label='test loss', color='orange')\n",
    "plt.xlabel('Epoch')\n",
    "plt.xticks(range(1, 16 + 1))\n",
    "plt.ylabel('Normalized Loss')\n",
    "plt.title('Average Loss')\n",
    "plt.legend()\n",
    "plt.show()"
   ]
  },
  {
   "cell_type": "code",
   "execution_count": 21,
   "metadata": {},
   "outputs": [
    {
     "name": "stdout",
     "output_type": "stream",
     "text": [
      "5\n",
      "1.436587743461132\n"
     ]
    }
   ],
   "source": [
    "print(test_loss.index(min(test_loss)))\n",
    "print(min(test_loss))"
   ]
  },
  {
   "cell_type": "code",
   "execution_count": 20,
   "metadata": {},
   "outputs": [
    {
     "name": "stdout",
     "output_type": "stream",
     "text": [
      "8\n",
      "0.8033333333333333\n"
     ]
    }
   ],
   "source": [
    "print(accuracies.index(max(accuracies)))\n",
    "print(max(accuracies))"
   ]
  },
  {
   "cell_type": "code",
   "execution_count": 19,
   "metadata": {},
   "outputs": [],
   "source": [
    "test_preds = np.argmax(stacked_val_preds, axis=1)"
   ]
  },
  {
   "cell_type": "code",
   "execution_count": 20,
   "metadata": {},
   "outputs": [],
   "source": [
    "true = true_labels.flatten().astype('int64')"
   ]
  },
  {
   "cell_type": "code",
   "execution_count": 21,
   "metadata": {},
   "outputs": [
    {
     "data": {
      "text/plain": [
       "0.7633333333333333"
      ]
     },
     "execution_count": 21,
     "metadata": {},
     "output_type": "execute_result"
    }
   ],
   "source": [
    "acc = np.sum(test_preds == true)/len(test_preds)\n",
    "acc"
   ]
  },
  {
   "cell_type": "code",
   "execution_count": 22,
   "metadata": {},
   "outputs": [],
   "source": [
    "precision, recall, fscore, support = precision_recall_fscore_support(true, test_preds)"
   ]
  },
  {
   "cell_type": "code",
   "execution_count": 23,
   "metadata": {},
   "outputs": [],
   "source": [
    "score_data = []\n",
    "for i,(p,r,f,s) in enumerate(zip(precision, recall, fscore, support)):\n",
    "  score_data.append((i,p,r,f,s))"
   ]
  },
  {
   "cell_type": "code",
   "execution_count": 24,
   "metadata": {},
   "outputs": [
    {
     "data": {
      "text/html": [
       "<div>\n",
       "<style scoped>\n",
       "    .dataframe tbody tr th:only-of-type {\n",
       "        vertical-align: middle;\n",
       "    }\n",
       "\n",
       "    .dataframe tbody tr th {\n",
       "        vertical-align: top;\n",
       "    }\n",
       "\n",
       "    .dataframe thead th {\n",
       "        text-align: right;\n",
       "    }\n",
       "</style>\n",
       "<table border=\"1\" class=\"dataframe\">\n",
       "  <thead>\n",
       "    <tr style=\"text-align: right;\">\n",
       "      <th></th>\n",
       "      <th>label</th>\n",
       "      <th>precision</th>\n",
       "      <th>recall</th>\n",
       "      <th>fscore</th>\n",
       "      <th>support</th>\n",
       "    </tr>\n",
       "  </thead>\n",
       "  <tbody>\n",
       "    <tr>\n",
       "      <th>0</th>\n",
       "      <td>0</td>\n",
       "      <td>0.571429</td>\n",
       "      <td>0.470588</td>\n",
       "      <td>0.516129</td>\n",
       "      <td>17</td>\n",
       "    </tr>\n",
       "    <tr>\n",
       "      <th>1</th>\n",
       "      <td>1</td>\n",
       "      <td>0.897059</td>\n",
       "      <td>0.813333</td>\n",
       "      <td>0.853147</td>\n",
       "      <td>75</td>\n",
       "    </tr>\n",
       "    <tr>\n",
       "      <th>2</th>\n",
       "      <td>2</td>\n",
       "      <td>0.625000</td>\n",
       "      <td>0.294118</td>\n",
       "      <td>0.400000</td>\n",
       "      <td>17</td>\n",
       "    </tr>\n",
       "    <tr>\n",
       "      <th>3</th>\n",
       "      <td>3</td>\n",
       "      <td>0.523810</td>\n",
       "      <td>0.647059</td>\n",
       "      <td>0.578947</td>\n",
       "      <td>17</td>\n",
       "    </tr>\n",
       "    <tr>\n",
       "      <th>4</th>\n",
       "      <td>4</td>\n",
       "      <td>0.384615</td>\n",
       "      <td>0.312500</td>\n",
       "      <td>0.344828</td>\n",
       "      <td>16</td>\n",
       "    </tr>\n",
       "    <tr>\n",
       "      <th>5</th>\n",
       "      <td>5</td>\n",
       "      <td>0.571429</td>\n",
       "      <td>0.705882</td>\n",
       "      <td>0.631579</td>\n",
       "      <td>17</td>\n",
       "    </tr>\n",
       "    <tr>\n",
       "      <th>6</th>\n",
       "      <td>6</td>\n",
       "      <td>0.858824</td>\n",
       "      <td>0.973333</td>\n",
       "      <td>0.912500</td>\n",
       "      <td>75</td>\n",
       "    </tr>\n",
       "    <tr>\n",
       "      <th>7</th>\n",
       "      <td>7</td>\n",
       "      <td>0.894737</td>\n",
       "      <td>1.000000</td>\n",
       "      <td>0.944444</td>\n",
       "      <td>17</td>\n",
       "    </tr>\n",
       "    <tr>\n",
       "      <th>8</th>\n",
       "      <td>8</td>\n",
       "      <td>0.812500</td>\n",
       "      <td>0.764706</td>\n",
       "      <td>0.787879</td>\n",
       "      <td>17</td>\n",
       "    </tr>\n",
       "    <tr>\n",
       "      <th>9</th>\n",
       "      <td>9</td>\n",
       "      <td>1.000000</td>\n",
       "      <td>0.750000</td>\n",
       "      <td>0.857143</td>\n",
       "      <td>16</td>\n",
       "    </tr>\n",
       "    <tr>\n",
       "      <th>10</th>\n",
       "      <td>10</td>\n",
       "      <td>0.521739</td>\n",
       "      <td>0.750000</td>\n",
       "      <td>0.615385</td>\n",
       "      <td>16</td>\n",
       "    </tr>\n",
       "  </tbody>\n",
       "</table>\n",
       "</div>"
      ],
      "text/plain": [
       "    label  precision    recall    fscore  support\n",
       "0       0   0.571429  0.470588  0.516129       17\n",
       "1       1   0.897059  0.813333  0.853147       75\n",
       "2       2   0.625000  0.294118  0.400000       17\n",
       "3       3   0.523810  0.647059  0.578947       17\n",
       "4       4   0.384615  0.312500  0.344828       16\n",
       "5       5   0.571429  0.705882  0.631579       17\n",
       "6       6   0.858824  0.973333  0.912500       75\n",
       "7       7   0.894737  1.000000  0.944444       17\n",
       "8       8   0.812500  0.764706  0.787879       17\n",
       "9       9   1.000000  0.750000  0.857143       16\n",
       "10     10   0.521739  0.750000  0.615385       16"
      ]
     },
     "execution_count": 24,
     "metadata": {},
     "output_type": "execute_result"
    }
   ],
   "source": [
    "df = pd.DataFrame(score_data,columns=['label','precision','recall','fscore','support'])\n",
    "df"
   ]
  },
  {
   "cell_type": "code",
   "execution_count": 72,
   "metadata": {},
   "outputs": [
    {
     "data": {
      "text/html": [
       "<div>\n",
       "<style scoped>\n",
       "    .dataframe tbody tr th:only-of-type {\n",
       "        vertical-align: middle;\n",
       "    }\n",
       "\n",
       "    .dataframe tbody tr th {\n",
       "        vertical-align: top;\n",
       "    }\n",
       "\n",
       "    .dataframe thead th {\n",
       "        text-align: right;\n",
       "    }\n",
       "</style>\n",
       "<table border=\"1\" class=\"dataframe\">\n",
       "  <thead>\n",
       "    <tr style=\"text-align: right;\">\n",
       "      <th></th>\n",
       "      <th>label</th>\n",
       "      <th>precision</th>\n",
       "      <th>recall</th>\n",
       "      <th>fscore</th>\n",
       "      <th>support</th>\n",
       "    </tr>\n",
       "  </thead>\n",
       "  <tbody>\n",
       "    <tr>\n",
       "      <th>0</th>\n",
       "      <td>antonymity</td>\n",
       "      <td>0.000000</td>\n",
       "      <td>0.000000</td>\n",
       "      <td>0.000000</td>\n",
       "      <td>17</td>\n",
       "    </tr>\n",
       "    <tr>\n",
       "      <th>1</th>\n",
       "      <td>entailment</td>\n",
       "      <td>0.455446</td>\n",
       "      <td>0.613333</td>\n",
       "      <td>0.522727</td>\n",
       "      <td>75</td>\n",
       "    </tr>\n",
       "    <tr>\n",
       "      <th>2</th>\n",
       "      <td>factive_antonymity</td>\n",
       "      <td>0.000000</td>\n",
       "      <td>0.000000</td>\n",
       "      <td>0.000000</td>\n",
       "      <td>17</td>\n",
       "    </tr>\n",
       "    <tr>\n",
       "      <th>3</th>\n",
       "      <td>factive_embedding_verb</td>\n",
       "      <td>0.000000</td>\n",
       "      <td>0.000000</td>\n",
       "      <td>0.000000</td>\n",
       "      <td>17</td>\n",
       "    </tr>\n",
       "    <tr>\n",
       "      <th>4</th>\n",
       "      <td>lexical</td>\n",
       "      <td>0.000000</td>\n",
       "      <td>0.000000</td>\n",
       "      <td>0.000000</td>\n",
       "      <td>16</td>\n",
       "    </tr>\n",
       "    <tr>\n",
       "      <th>5</th>\n",
       "      <td>negation</td>\n",
       "      <td>0.000000</td>\n",
       "      <td>0.000000</td>\n",
       "      <td>0.000000</td>\n",
       "      <td>17</td>\n",
       "    </tr>\n",
       "    <tr>\n",
       "      <th>6</th>\n",
       "      <td>neutral</td>\n",
       "      <td>0.693069</td>\n",
       "      <td>0.933333</td>\n",
       "      <td>0.795455</td>\n",
       "      <td>75</td>\n",
       "    </tr>\n",
       "    <tr>\n",
       "      <th>7</th>\n",
       "      <td>numeric</td>\n",
       "      <td>0.000000</td>\n",
       "      <td>0.000000</td>\n",
       "      <td>0.000000</td>\n",
       "      <td>17</td>\n",
       "    </tr>\n",
       "    <tr>\n",
       "      <th>8</th>\n",
       "      <td>structure</td>\n",
       "      <td>0.154639</td>\n",
       "      <td>0.882353</td>\n",
       "      <td>0.263158</td>\n",
       "      <td>17</td>\n",
       "    </tr>\n",
       "    <tr>\n",
       "      <th>9</th>\n",
       "      <td>temporal</td>\n",
       "      <td>0.000000</td>\n",
       "      <td>0.000000</td>\n",
       "      <td>0.000000</td>\n",
       "      <td>16</td>\n",
       "    </tr>\n",
       "    <tr>\n",
       "      <th>10</th>\n",
       "      <td>worldknowledge</td>\n",
       "      <td>0.000000</td>\n",
       "      <td>0.000000</td>\n",
       "      <td>0.000000</td>\n",
       "      <td>16</td>\n",
       "    </tr>\n",
       "  </tbody>\n",
       "</table>\n",
       "</div>"
      ],
      "text/plain": [
       "                     label  precision    recall    fscore  support\n",
       "0               antonymity   0.000000  0.000000  0.000000       17\n",
       "1               entailment   0.455446  0.613333  0.522727       75\n",
       "2       factive_antonymity   0.000000  0.000000  0.000000       17\n",
       "3   factive_embedding_verb   0.000000  0.000000  0.000000       17\n",
       "4                  lexical   0.000000  0.000000  0.000000       16\n",
       "5                 negation   0.000000  0.000000  0.000000       17\n",
       "6                  neutral   0.693069  0.933333  0.795455       75\n",
       "7                  numeric   0.000000  0.000000  0.000000       17\n",
       "8                structure   0.154639  0.882353  0.263158       17\n",
       "9                 temporal   0.000000  0.000000  0.000000       16\n",
       "10          worldknowledge   0.000000  0.000000  0.000000       16"
      ]
     },
     "execution_count": 72,
     "metadata": {},
     "output_type": "execute_result"
    }
   ],
   "source": [
    "# Replace label digits with label strings\n",
    "\n",
    "string_value_counts = dataset.groupby('label_string')['label'].unique()\n",
    "\n",
    "formatted_output = {key: value[0] for key, value in string_value_counts.items()}\n",
    "\n",
    "rev_label_dict = {value: key for key, value in formatted_output.items()}\n",
    "\n",
    "df['label'] = df['label'].map(rev_label_dict)\n",
    "df"
   ]
  },
  {
   "cell_type": "markdown",
   "metadata": {},
   "source": [
    "#### Save model"
   ]
  },
  {
   "cell_type": "code",
   "execution_count": 12,
   "metadata": {},
   "outputs": [],
   "source": [
    "import pickle\n",
    "\n",
    "model_path = '/home/ssever/contradictory-information/src/xml_roberta.pkl'\n",
    "\n",
    "with open(model_path, 'wb') as file:\n",
    "    pickle.dump(model, file)"
   ]
  },
  {
   "cell_type": "code",
   "execution_count": null,
   "metadata": {},
   "outputs": [],
   "source": [
    "with open(model_path, 'rb') as file:\n",
    "    model = pickle.load(file)\n",
    "\n",
    "model.get_parameter"
   ]
  },
  {
   "cell_type": "markdown",
   "metadata": {},
   "source": [
    "## **Alternative**"
   ]
  },
  {
   "cell_type": "markdown",
   "metadata": {},
   "source": [
    "#### **Initiate cuda**"
   ]
  },
  {
   "cell_type": "code",
   "execution_count": 38,
   "metadata": {},
   "outputs": [
    {
     "data": {
      "text/plain": [
       "28"
      ]
     },
     "execution_count": 38,
     "metadata": {},
     "output_type": "execute_result"
    }
   ],
   "source": [
    "gc.collect()"
   ]
  },
  {
   "cell_type": "code",
   "execution_count": 35,
   "metadata": {},
   "outputs": [
    {
     "data": {
      "text/plain": [
       "device(type='cuda')"
      ]
     },
     "execution_count": 35,
     "metadata": {},
     "output_type": "execute_result"
    }
   ],
   "source": [
    "device = torch.device('cuda' if torch.cuda.is_available() else 'cpu')\n",
    "#device = torch.device('cpu')\n",
    "device"
   ]
  },
  {
   "cell_type": "code",
   "execution_count": 36,
   "metadata": {},
   "outputs": [
    {
     "name": "stdout",
     "output_type": "stream",
     "text": [
      "There are 1 GPU(s) available.\n",
      "GPU is: NVIDIA GeForce RTX 4050 Laptop GPU\n"
     ]
    }
   ],
   "source": [
    "print('There are %d GPU(s) available.' % torch.cuda.device_count())\n",
    "print('GPU is:', torch.cuda.get_device_name(0))"
   ]
  },
  {
   "cell_type": "markdown",
   "metadata": {},
   "source": [
    "#### **Tokenize and explore train and test sets**"
   ]
  },
  {
   "cell_type": "code",
   "execution_count": 37,
   "metadata": {},
   "outputs": [],
   "source": [
    "# Load tokenizer\n",
    "tokenizer = AutoTokenizer.from_pretrained('xlm-roberta-base')"
   ]
  },
  {
   "cell_type": "code",
   "execution_count": 39,
   "metadata": {},
   "outputs": [],
   "source": [
    "# Tokenize train and test set\n",
    "\n",
    "features_train = train[['premise', 'hypothesis']].values.tolist()\n",
    "features_test = test[['premise', 'hypothesis']].values.tolist()\n",
    "\n",
    "tokenized_features_train = tokenizer.batch_encode_plus(features_train)\n",
    "tokenized_features_test = tokenizer.batch_encode_plus(features_test)"
   ]
  },
  {
   "cell_type": "code",
   "execution_count": 40,
   "metadata": {},
   "outputs": [
    {
     "name": "stdout",
     "output_type": "stream",
     "text": [
      "Longest and shortest input string in Train set:  \n",
      "Max:  131\n",
      "Min:  16 \n",
      "\n",
      "Longest and shortest input string in Test set:  \n",
      "Max:  124\n",
      "Min:  22\n"
     ]
    }
   ],
   "source": [
    "# collect tokenized train features sentence length \n",
    "token_train_length = [len(x) for x in tokenized_features_train['input_ids']]\n",
    "print('Longest and shortest input string in Train set: ', '\\n' 'Max: ', max(token_train_length))\n",
    "print('Min: ', min(token_train_length), '\\n')\n",
    "\n",
    "\n",
    "# collect tokenized test features sentence length \n",
    "token_test_length = [len(x) for x in tokenized_features_test['input_ids']]\n",
    "print('Longest and shortest input string in Test set: ', '\\n' 'Max: ', max(token_test_length))\n",
    "print('Min: ', min(token_test_length))"
   ]
  },
  {
   "cell_type": "code",
   "execution_count": 41,
   "metadata": {},
   "outputs": [
    {
     "data": {
      "image/png": "[encoded data removed]",
      "text/plain": [
       "<Figure size 1400x400 with 2 Axes>"
      ]
     },
     "metadata": {},
     "output_type": "display_data"
    }
   ],
   "source": [
    "# plot token train and test distribution\n",
    "\n",
    "fig, axis = plt.subplots(1, 2, figsize=(14, 4))\n",
    "\n",
    "# Train token plot\n",
    "axis[0].hist(token_train_length, rwidth = 0.9)\n",
    "axis[0].set_title(\"Train token distribution\", fontsize = 12)\n",
    "axis[0].set_xlabel(\"Token Length\")\n",
    "axis[0].set_ylabel(\"Frequency\") \n",
    "\n",
    "# Test token plot\n",
    "axis[1].hist(token_test_length, rwidth = 0.9)\n",
    "axis[1].set_title(\"Test token distribution\", fontsize = 12)\n",
    "axis[1].set_xlabel(\"Token Length\")\n",
    "axis[1].set_ylabel(\"Frequency\") \n",
    "\n",
    "plt.show()"
   ]
  },
  {
   "cell_type": "markdown",
   "metadata": {},
   "source": [
    "#### **Hyperparameter setting**"
   ]
  },
  {
   "cell_type": "code",
   "execution_count": 42,
   "metadata": {},
   "outputs": [],
   "source": [
    "# Configuration\n",
    "MODEL_NAME = 'xlm-roberta-base'\n",
    "# MODEL_NAME = 'bert-base-uncased'\n",
    "BATCH_SIZE = 12\n",
    "NUM_EPOCHS = 2\n",
    "L_RATE = 5e-6\n",
    "MAX_LEN = 256\n",
    "# NUM_CORES = os.cpu_count()\n",
    "# NUM_CORES"
   ]
  },
  {
   "cell_type": "markdown",
   "metadata": {},
   "source": [
    "#### **Load into dataloader**"
   ]
  },
  {
   "cell_type": "code",
   "execution_count": 43,
   "metadata": {},
   "outputs": [],
   "source": [
    "kwargs = { 'truncation': True,\n",
    "    'max_length': MAX_LEN,\n",
    "    'padding': 'max_length',\n",
    "    'add_special_tokens': True,\n",
    "    'return_attention_mask': True, \n",
    "    'return_tensors': 'pt'     \n",
    "    }\n",
    "\n",
    "tokenized_features_train = tokenizer.batch_encode_plus(features_train,**kwargs)\n",
    "tokenized_features_test = tokenizer.batch_encode_plus(features_test,**kwargs)"
   ]
  },
  {
   "cell_type": "code",
   "execution_count": 44,
   "metadata": {},
   "outputs": [
    {
     "name": "stdout",
     "output_type": "stream",
     "text": [
      "Number of batches in train set: 224\n"
     ]
    }
   ],
   "source": [
    "# Load train set into data loader\n",
    "\n",
    "input_ids = torch.LongTensor(tokenized_features_train.input_ids)\n",
    "attention_masks = torch.LongTensor(tokenized_features_train.attention_mask)\n",
    "labels = torch.Tensor(train['label']).reshape(-1, 1)\n",
    "\n",
    "train_set = TensorDataset(input_ids, attention_masks, labels)\n",
    "train_dataloader = DataLoader(train_set, sampler=RandomSampler(train_set), batch_size=BATCH_SIZE)\n",
    "print('Number of batches in train set:', len(train_dataloader))"
   ]
  },
  {
   "cell_type": "code",
   "execution_count": 45,
   "metadata": {},
   "outputs": [
    {
     "name": "stdout",
     "output_type": "stream",
     "text": [
      "Number of batches in test set: 25\n"
     ]
    }
   ],
   "source": [
    "# Load test set into data loader\n",
    "\n",
    "input_ids = torch.LongTensor(tokenized_features_test.input_ids)\n",
    "attention_masks = torch.LongTensor(tokenized_features_test.attention_mask)\n",
    "labels = torch.Tensor(test['label']).reshape(-1, 1)\n",
    "\n",
    "test_set = TensorDataset(input_ids, attention_masks, labels)\n",
    "test_dataloader = DataLoader(test_set, sampler=RandomSampler(test_set), batch_size=BATCH_SIZE)\n",
    "print('Number of batches in test set:', len(test_dataloader))"
   ]
  },
  {
   "cell_type": "code",
   "execution_count": 46,
   "metadata": {},
   "outputs": [
    {
     "data": {
      "text/plain": [
       "11"
      ]
     },
     "execution_count": 46,
     "metadata": {},
     "output_type": "execute_result"
    }
   ],
   "source": [
    "NUM_LABELS = dataset['label'].nunique()\n",
    "NUM_LABELS"
   ]
  },
  {
   "cell_type": "markdown",
   "metadata": {},
   "source": [
    "#### **Load classifier model**"
   ]
  },
  {
   "cell_type": "code",
   "execution_count": null,
   "metadata": {},
   "outputs": [],
   "source": [
    "#model = BertForSequenceClassification.from_pretrained(model_name, num_labels=11, output_hidden_states=False, output_attentions=False, problem_type=\"multi_label_classification\")\n",
    "model = XLMRobertaForSequenceClassification.from_pretrained(MODEL_NAME, num_labels=NUM_LABELS, output_attentions = False, output_hidden_states = False)\n",
    "model.to(device)"
   ]
  },
  {
   "cell_type": "markdown",
   "metadata": {},
   "source": [
    "#### **Load optimizer**"
   ]
  },
  {
   "cell_type": "code",
   "execution_count": 48,
   "metadata": {},
   "outputs": [],
   "source": [
    "optimizer = AdamW(model.parameters(),\n",
    "                  lr = L_RATE, \n",
    "                  eps = 1e-8 \n",
    "                )"
   ]
  },
  {
   "cell_type": "code",
   "execution_count": 49,
   "metadata": {},
   "outputs": [
    {
     "data": {
      "text/plain": [
       "448"
      ]
     },
     "execution_count": 49,
     "metadata": {},
     "output_type": "execute_result"
    }
   ],
   "source": [
    "total_steps = len(train_dataloader) * NUM_EPOCHS\n",
    "total_steps"
   ]
  },
  {
   "cell_type": "code",
   "execution_count": 50,
   "metadata": {},
   "outputs": [],
   "source": [
    "scheduler = get_linear_schedule_with_warmup(optimizer,\n",
    "                                            num_warmup_steps = 0,\n",
    "                                            num_training_steps = total_steps)"
   ]
  },
  {
   "cell_type": "markdown",
   "metadata": {},
   "source": [
    "#### **Train model**"
   ]
  },
  {
   "cell_type": "code",
   "execution_count": 51,
   "metadata": {},
   "outputs": [
    {
     "name": "stdout",
     "output_type": "stream",
     "text": [
      "total steps per epoch:  18.666666666666668\n",
      "training on epoch:  0\n",
      "training on step:  50\n",
      "total time used is: 36.13 s\n",
      "training on step:  100\n",
      "total time used is: 72.08 s\n",
      "training on step:  150\n",
      "total time used is: 108.14 s\n",
      "training on step:  200\n",
      "total time used is: 144.20 s\n",
      "average training loss: 0.68\n",
      "training on epoch:  1\n",
      "training on step:  50\n",
      "total time used is: 36.04 s\n",
      "training on step:  100\n",
      "total time used is: 72.07 s\n",
      "training on step:  150\n",
      "total time used is: 108.13 s\n",
      "training on step:  200\n",
      "total time used is: 144.17 s\n",
      "average training loss: 0.68\n"
     ]
    }
   ],
   "source": [
    "# Training\n",
    "import time\n",
    "# Store the average loss after each epoch \n",
    "loss_values = []\n",
    "# number of total steps for each epoch\n",
    "print('total steps per epoch: ',  len(train_dataloader) / BATCH_SIZE)\n",
    "# looping over epochs\n",
    "for epoch_i in range(0, NUM_EPOCHS):\n",
    "    \n",
    "    print('training on epoch: ', epoch_i)\n",
    "    # set start time \n",
    "    t0 = time.time()\n",
    "    # reset total loss\n",
    "    total_loss = 0\n",
    "    # model in training \n",
    "    model.train()\n",
    "    # loop through batch \n",
    "    for step, batch in enumerate(train_dataloader):\n",
    "        # Progress update every 50 step \n",
    "        if step % 50 == 0 and not step == 0:\n",
    "            print('training on step: ', step)\n",
    "            print('total time used is: {0:.2f} s'.format(time.time() - t0))\n",
    "        # load data from dataloader \n",
    "        b_input_ids = batch[0].to(device)\n",
    "        b_input_mask = batch[1].to(device)\n",
    "        b_labels = torch.nn.functional.one_hot(batch[2].to(torch.int64), num_classes=NUM_LABELS).squeeze(1).float().to(device)\n",
    "        # clear any previously calculated gradients \n",
    "        model.zero_grad()\n",
    "        # get outputs\n",
    "        outputs = model(b_input_ids,\n",
    "                        token_type_ids=None,\n",
    "                        attention_mask=b_input_mask,\n",
    "                        labels=b_labels)\n",
    "        # get loss\n",
    "        loss = outputs[0]\n",
    "        # total loss\n",
    "        total_loss += loss.item()\n",
    "        # clip the norm of the gradients to 1.0.\n",
    "        torch.nn.utils.clip_grad_norm_(model.parameters(), 1.0)\n",
    "        # update optimizer\n",
    "        optimizer.step()\n",
    "        # update learning rate \n",
    "        #scheduler.step()\n",
    "    # Calculate the average loss over the training data.\n",
    "    avg_train_loss = total_loss / len(train_dataloader)\n",
    "    # Store the loss value for plotting the learning curve.\n",
    "    loss_values.append(avg_train_loss)\n",
    "    print(\"average training loss: {0:.2f}\".format(avg_train_loss))"
   ]
  },
  {
   "cell_type": "code",
   "execution_count": 52,
   "metadata": {},
   "outputs": [
    {
     "name": "stdout",
     "output_type": "stream",
     "text": [
      "total time used is: 16.05 s\n"
     ]
    }
   ],
   "source": [
    "t0 = time.time()\n",
    "# model in test mode\n",
    "model.eval()\n",
    "# save prediction\n",
    "predictions, true_labels =[], []\n",
    "# evaluate data for one epoch\n",
    "for batch in test_dataloader:\n",
    "    # Add batch to GPU\n",
    "    batch = tuple(t.to(device) for t in batch)\n",
    "    # Unpack the inputs from our dataloader\n",
    "    b_input_ids, b_input_mask, b_labels = batch\n",
    "    # testing\n",
    "    with torch.no_grad():\n",
    "        outputs = model(b_input_ids,\n",
    "                        token_type_ids=None,\n",
    "                        attention_mask=b_input_mask)\n",
    "    # get output\n",
    "    logits = outputs[0]\n",
    "    # move logits and labels to CPU\n",
    "    logits = logits.detach().cpu().numpy()\n",
    "    label_ids = b_labels.to('cpu').numpy()\n",
    "    final_prediction = np.argmax(logits, axis=-1).flatten()\n",
    "    predictions.append(final_prediction)\n",
    "    true_labels.append(label_ids)\n",
    "    \n",
    "print('total time used is: {0:.2f} s'.format(time.time() - t0))"
   ]
  },
  {
   "cell_type": "code",
   "execution_count": 56,
   "metadata": {},
   "outputs": [],
   "source": [
    "# Flatten true labels\n",
    "true_labels_flat = np.concatenate(true_labels).astype(int).ravel()\n",
    "\n",
    "# Flatten predictions\n",
    "predictions_flat = np.concatenate(predictions).ravel()"
   ]
  },
  {
   "cell_type": "code",
   "execution_count": 54,
   "metadata": {},
   "outputs": [
    {
     "name": "stdout",
     "output_type": "stream",
     "text": [
      "              precision    recall  f1-score   support\n",
      "\n",
      "           0       0.00      0.00      0.00        17\n",
      "           1       0.00      0.00      0.00        75\n",
      "           2       0.00      0.00      0.00        17\n",
      "           3       0.00      0.00      0.00        17\n",
      "           4       0.00      0.00      0.00        16\n",
      "           5       0.00      0.00      0.00        17\n",
      "           6       0.25      1.00      0.40        75\n",
      "           7       0.00      0.00      0.00        17\n",
      "           8       0.00      0.00      0.00        15\n",
      "           9       0.00      0.00      0.00        16\n",
      "          10       0.00      0.00      0.00        16\n",
      "\n",
      "    accuracy                           0.25       298\n",
      "   macro avg       0.02      0.09      0.04       298\n",
      "weighted avg       0.06      0.25      0.10       298\n",
      "\n"
     ]
    }
   ],
   "source": [
    "# Flatten true labels\n",
    "true_labels_flat = np.concatenate(true_labels).astype(int).ravel()\n",
    "\n",
    "# Flatten predictions\n",
    "predictions_flat = np.concatenate(predictions).ravel()\n",
    "\n",
    "from sklearn.metrics import confusion_matrix, classification_report\n",
    "cr = classification_report(true_labels_flat, \n",
    "                           predictions_flat, \n",
    "                           output_dict=False)\n",
    "print(cr)"
   ]
  },
  {
   "cell_type": "code",
   "execution_count": 76,
   "metadata": {},
   "outputs": [
    {
     "data": {
      "text/plain": [
       "2.0738865545436455e-06"
      ]
     },
     "execution_count": 76,
     "metadata": {},
     "output_type": "execute_result"
    }
   ],
   "source": [
    "from scipy.stats import uniform\n",
    "learning_rate = 10 ** uniform.rvs(-6, 1)\n",
    "learning_rate"
   ]
  }
 ],
 "metadata": {
  "kernelspec": {
   "display_name": "Python 3",
   "language": "python",
   "name": "python3"
  },
  "language_info": {
   "codemirror_mode": {
    "name": "ipython",
    "version": 3
   },
   "file_extension": ".py",
   "mimetype": "text/x-python",
   "name": "python",
   "nbconvert_exporter": "python",
   "pygments_lexer": "ipython3",
   "version": "3.10.12"
  }
 },
 "nbformat": 4,
 "nbformat_minor": 2
}
