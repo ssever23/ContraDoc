{
 "cells": [
  {
   "cell_type": "code",
   "execution_count": 1,
   "metadata": {},
   "outputs": [],
   "source": [
    "import fitz  # PyMuPDF\n",
    "import nltk\n",
    "import random\n",
    "import glob"
   ]
  },
  {
   "cell_type": "code",
   "execution_count": 2,
   "metadata": {},
   "outputs": [
    {
     "name": "stderr",
     "output_type": "stream",
     "text": [
      "[nltk_data] Downloading package punkt to /home/ssever/nltk_data...\n",
      "[nltk_data]   Package punkt is already up-to-date!\n"
     ]
    },
    {
     "data": {
      "text/plain": [
       "True"
      ]
     },
     "execution_count": 2,
     "metadata": {},
     "output_type": "execute_result"
    }
   ],
   "source": [
    "# Downlaod punkt tokenizer\n",
    "nltk.download('punkt')"
   ]
  },
  {
   "cell_type": "code",
   "execution_count": 3,
   "metadata": {},
   "outputs": [],
   "source": [
    "folder_path = \"/home/ssever/contradictory-information/src/Data/sentence_data\"\n",
    "\n",
    "pdf_files = glob.glob(f\"{folder_path}/*.pdf\")\n",
    "\n",
    "all_sentences = []\n",
    "\n",
    "for pdf_file in pdf_files:\n",
    "    full_text = \"\"\n",
    "    doc = fitz.open(pdf_file)\n",
    "    for page in doc:\n",
    "        full_text += page.get_text()\n",
    "    \n",
    "    doc.close()\n",
    "\n",
    "    sentences = nltk.tokenize.sent_tokenize(full_text)\n",
    "\n",
    "    all_sentences.append(sentences)\n"
   ]
  },
  {
   "cell_type": "code",
   "execution_count": 4,
   "metadata": {},
   "outputs": [
    {
     "name": "stdout",
     "output_type": "stream",
     "text": [
      "Number of sentences: 21431\n"
     ]
    },
    {
     "data": {
      "text/plain": [
       "'As recommended by the Executive Committee, the Super-visory Board approved the remuneration system by adopting resolutions at its meetings on 29 June 2016 and 28 Septem-ber 2016, taking account of the requirements of stock company law and the DCGK.'"
      ]
     },
     "execution_count": 4,
     "metadata": {},
     "output_type": "execute_result"
    }
   ],
   "source": [
    "flattened_and_cleaned_list = [item.replace(\"\\n\", \"\") for sublist in all_sentences for item in sublist]\n",
    "print(f\"Number of sentences:\", len(flattened_and_cleaned_list))\n",
    "#flattened_and_cleaned_list.index('Fitch Ratings continued to award the Group a long-term issuer default rating of BBB with a stable outlook.')"
   ]
  },
  {
   "cell_type": "code",
   "execution_count": 30,
   "metadata": {},
   "outputs": [
    {
     "name": "stdout",
     "output_type": "stream",
     "text": [
      "Number of filtered sentences: 18989\n"
     ]
    }
   ],
   "source": [
    "filtered_sentences = [sentence for sentence in flattened_and_cleaned_list if len(nltk.word_tokenize(sentence)) <= 50]\n",
    "print(f\"Number of filtered sentences:\", len(filtered_sentences))"
   ]
  },
  {
   "cell_type": "code",
   "execution_count": 27,
   "metadata": {},
   "outputs": [],
   "source": [
    "max_tokens = 0\n",
    "sentence_with_most_tokens = \"\"\n",
    "\n",
    "for sentence in filtered_sentences:\n",
    "    tokens = nltk.word_tokenize(sentence)\n",
    "\n",
    "    if len(tokens) > max_tokens:\n",
    "        max_tokens = len(tokens)\n",
    "        sentence_with_most_tokens = sentence"
   ]
  },
  {
   "cell_type": "code",
   "execution_count": 26,
   "metadata": {},
   "outputs": [
    {
     "name": "stdout",
     "output_type": "stream",
     "text": [
      "Sentence with the most tokens: \"The ultra-precise forecasts of this AI-based platform allow our customers to plan the optimum charging times for their fleets of industrial trucks, to avoid peaks in charging and uncharging, and in doing so to significantly reduce their energy costs and the demands they put on electricity grids.\"\n",
      "Number of tokens: 50\n"
     ]
    }
   ],
   "source": [
    "print(f\"Sentence with the most tokens: \\\"{sentence_with_most_tokens}\\\"\")\n",
    "print(f\"Number of tokens: {max_tokens}\")"
   ]
  }
 ],
 "metadata": {
  "kernelspec": {
   "display_name": "Python 3",
   "language": "python",
   "name": "python3"
  },
  "language_info": {
   "codemirror_mode": {
    "name": "ipython",
    "version": 3
   },
   "file_extension": ".py",
   "mimetype": "text/x-python",
   "name": "python",
   "nbconvert_exporter": "python",
   "pygments_lexer": "ipython3",
   "version": "3.10.12"
  }
 },
 "nbformat": 4,
 "nbformat_minor": 2
}
