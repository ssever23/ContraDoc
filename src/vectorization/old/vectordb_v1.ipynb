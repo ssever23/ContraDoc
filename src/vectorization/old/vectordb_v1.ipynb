{
 "cells": [
  {
   "cell_type": "code",
   "execution_count": 1,
   "metadata": {},
   "outputs": [],
   "source": [
    "import os\n",
    "\n",
    "#Loader\n",
    "\n",
    "from langchain_community.document_loaders import PyPDFLoader\n",
    "from langchain_community.document_loaders.csv_loader import CSVLoader\n",
    "\n",
    "#Splitter\n",
    "from langchain.text_splitter import RecursiveCharacterTextSplitter\n",
    "\n",
    "#Embedding\n",
    "from langchain_community.embeddings import HuggingFaceEmbeddings\n",
    "\n",
    "#Vectordb\n",
    "from langchain_community.vectorstores.chroma import Chroma\n",
    "\n",
    "import pandas as pd"
   ]
  },
  {
   "cell_type": "code",
   "execution_count": 2,
   "metadata": {},
   "outputs": [],
   "source": [
    "from langchain_community.document_loaders import PyPDFLoader\n",
    "\n",
    "loader = PyPDFLoader(\"/home/ssever/contradictory-information/src/Data/KION_Public/2022_Q1/Transkript.pdf\")\n",
    "pages = loader.load_and_split()"
   ]
  },
  {
   "cell_type": "code",
   "execution_count": null,
   "metadata": {},
   "outputs": [],
   "source": [
    "from langchain_community.vectorstores import FAISS\n",
    "from langchain_community.embeddings import HuggingFaceEmbeddings\n",
    "\n",
    "model = HuggingFaceEmbeddings()\n",
    "\n",
    "query = \"Order intake grew 31% in EMEA, 54% in Americas, 15% in  APAC,  and  globally,  orders  were  up  29%,  reaching  87,000 units, and 87% of those units were electrified.\"\n",
    "\n",
    "faiss_index = FAISS.from_documents(pages, model)\n",
    "docs = faiss_index.similarity_search(query, k=1)\n",
    "for doc in docs:\n",
    "    print(str(doc.metadata[\"page\"]) + \":\", doc.page_content)"
   ]
  },
  {
   "cell_type": "code",
   "execution_count": 10,
   "metadata": {},
   "outputs": [
    {
     "name": "stdout",
     "output_type": "stream",
     "text": [
      "Page 4  \n",
      " \n",
      "KION  GROUP AG Investor  & Analyst  Q1 20 22 Update Call Transcription  \n",
      "typically used in warehouse equipment, KION Battery Systems \n",
      "set the next milestone on our innovation and sustainability path.  \n",
      " \n",
      " Let’s move together to Page 6, and I’ll talk you through the \n",
      "industrial truck market and order intake.  In the past, we’ve  usually \n",
      "provided an update on the global industrial truck market in unit \n",
      "terms  using WITS data . This time, fo llowing a recent assessment \n",
      "of European competition law, the WITS data regarding order  \n",
      "intake in units is  being delayed by three months since the \n",
      "beginning of this  year. So this time, we’re not able to describe the \n",
      "market development with WITS data as usual , and we’ll do that \n",
      "according to our own assessment . \n",
      " \n",
      " We expect that EMEA and the Am ericas have seen a strong start \n",
      "in the year and that APAC has seen a slight increase.  \n",
      " \n",
      " In KION, order intake grew 29% in EMEA, 76% in Americas , 20% \n",
      "in APAC , and globally , orders were up 29%, reaching 87,000 \n",
      "units , and 87% of those units were electrified.  \n",
      " \n",
      " EMEA continued to see a strong momentum in Q1. In North \n",
      "America, w ith our improved dealer network, we were able to \n",
      "achieve significant growth across all product segments , and we \n",
      "are investing in extending our local production capacity . \n",
      "  And o ur Growing in China strategy is bearing fruit, supporting \n",
      "growth in E and warehouse trucks , and the factory ramp- up in \n",
      "Jinan is running according to plan.  \n",
      "  Page 7, we’ll see the key financials for the ITS segment . Demand \n",
      "remained strong in the first quart er. Although the order intake was\n"
     ]
    }
   ],
   "source": [
    "# import\n",
    "from langchain_community.document_loaders import TextLoader\n",
    "from langchain_community.embeddings.sentence_transformer import (\n",
    "    SentenceTransformerEmbeddings,\n",
    ")\n",
    "from langchain_community.vectorstores import Chroma\n",
    "\n",
    "loader = PyPDFLoader(\"/home/ssever/contradictory-information/src/Data/KION_Public/2022_Q1/Transkript.pdf\")\n",
    "pages = loader.load_and_split()\n",
    "\n",
    "# create the open-source embedding function\n",
    "embedding_function = SentenceTransformerEmbeddings(model_name=\"all-MiniLM-L6-v2\")\n",
    "\n",
    "# load it into Chroma\n",
    "db = Chroma.from_documents(pages, embedding_function)\n",
    "\n",
    "# query it\n",
    "query = \"Order intake grew 31% in EMEA, 54% in Americas, 15% in  APAC,  and  globally,  orders  were  up  29%,  reaching  87,000 units, and 87% of those units were electrified.\"\n",
    "docs = db.similarity_search(query)\n",
    "\n",
    "# print results\n",
    "print(docs[0].page_content)"
   ]
  },
  {
   "cell_type": "code",
   "execution_count": 4,
   "metadata": {},
   "outputs": [],
   "source": [
    "# Loading pdf documents from personal file directory. Replace /home/ssever with your own directory\n",
    "\n",
    "data_vw = PyPDFLoader(\"/home/ssever/contradictory-information/src/Data/ESG_Reports/English/2022_VWGroup_Sustainability_Report.pdf\").load()\n",
    "data_mercedes = PyPDFLoader(\"/home/ssever/contradictory-information/src/Data/ESG_Reports/English/Mercedes-Benz-sustainabilityreport22.pdf\").load()\n",
    "data_bmw = PyPDFLoader(\"/home/ssever/contradictory-information/src/Data/ESG_Reports/English/BMW-Group-Report-2022-en.pdf\").load()\n",
    "data_audi = PyPDFLoader(\"/home/ssever/contradictory-information/src/Data/ESG_Reports/English/audi-report-2022.pdf\").load()\n",
    "data_porsche = PyPDFLoader(\"/home/ssever/contradictory-information/src/Data/ESG_Reports/English/Annual and Sustainability Report 2022 Porsche AG.pdf\").load()\n",
    "\n",
    "data_2022_Q1 = PyPDFLoader(\"/home/ssever/contradictory-information/src/Data/KION_Public/2022_Q1/Transkript.pdf\").load()\n",
    "data_2022_Q2 = PyPDFLoader(\"/home/ssever/contradictory-information/src/Data/KION_Public/2022_Q2/KION_GROUP_Pressemitteilung_HJ1_2022.pdf\").load()\n",
    "data_2022_Q3 = PyPDFLoader(\"/home/ssever/contradictory-information/src/Data/KION_Public/2022_Q3/KION-Group_Q3-2022-Update-Call_sec.pdf\").load()\n",
    "data_2022_Q4 = PyPDFLoader(\"/home/ssever/contradictory-information/src/Data/KION_Public/2022_Q4/DE_KION-Vergütungsbericht-2022_01032023-secured.pdf\").load()\n",
    "data_2023_Q1 = PyPDFLoader(\"/home/ssever/contradictory-information/src/Data/KION_Public/2023_Q1/Transcript_q1_2023.pdf\").load()\n",
    "data_2023_Q2 = PyPDFLoader(\"/home/ssever/contradictory-information/src/Data/KION_Public/2023_Q2/presentation_kion_group_q2_2023.pdf\").load()\n",
    "data_2023_Q3 = PyPDFLoader(\"/home/ssever/contradictory-information/src/Data/KION_Public/2023_Q3/kion_group_report_q3_de_2023.pdf\").load()"
   ]
  },
  {
   "cell_type": "code",
   "execution_count": 9,
   "metadata": {},
   "outputs": [
    {
     "name": "stderr",
     "output_type": "stream",
     "text": [
      "/home/ssever/.local/lib/python3.10/site-packages/torch/_utils.py:831: UserWarning: TypedStorage is deprecated. It will be removed in the future and UntypedStorage will be the only storage class. This should only matter to you if you are using storages directly.  To access UntypedStorage directly, use tensor.untyped_storage() instead of tensor.storage()\n",
      "  return self.fget.__get__(instance, owner)()\n"
     ]
    }
   ],
   "source": [
    "# Loading embedding model and initializing text splitter\n",
    "\n",
    "embedding = HuggingFaceEmbeddings(model_name='all-MiniLM-L6-v2') # choose all-MiniLM-L6-v2 as embedding model\n",
    "text_splitter = RecursiveCharacterTextSplitter(chunk_size = 500, chunk_overlap = 200, add_start_index = False) # splits the text into chunks"
   ]
  },
  {
   "cell_type": "code",
   "execution_count": 12,
   "metadata": {},
   "outputs": [],
   "source": [
    "# Putting the given text into a list in Python\n",
    "\n",
    "text_list = [\n",
    "    \"In einer Zeit, in der die Logistik rasante Veränderungen durchläuft, ermöglicht die Digitalisierung \"\n",
    "    \"immer kürzere Umschlagszeiten. Das Tempo in den Warenlagern wird kontinuierlich gesteigert mit \"\n",
    "    \"dem Ziel, die Lieferzeiten zu verkürzen. Indes führt die wachsende Bandbreite an Produkten zu \"\n",
    "    \"immer größeren Lagerflächen und die Interaktion von Mensch und automatisierten Systemen erhöht \"\n",
    "    \"die Komplexität der Logistikprozesse.\",\n",
    "    \"Laut einer Unfallstatistik der Deutschen Gesetzlichen Unfallversicherung kam es 2021 in Deutschland zu rund 34.051 Unfällen mit Flurförderzeugen (2020: 31.787). Davon standen 15.383 Unfälle \"\n",
    "    \"im Zusammenhang mit Gegengewichtsstaplern (2020: 13.689). In 51 Prozent der Fälle wurden Personen oder Gegenstände übersehen, sodass es zu Zusammenstößen kam. Bei 20 Prozent der Unfälle wurde der Fahrer selbst verletzt. In 11 Fällen kam es zu tödlichen Verletzungen (2020: 10). \"\n",
    "    \"Diese Zahlen verdeutlichen, wie wichtig die Sicherheit von Produkten und Lösungen ist.\",\n",
    "    \"Im Rahmen der KION Nachhaltigkeitsstrategie sowie des konzernweiten Nachhaltigkeitsprogramms \"\n",
    "    \"zielen zwei Handlungsfelder direkt auf produktbezogene Nachhaltigkeitsschwerpunkte ab: 03 | Product and solution safety sowie 04 | Product and solution sustainability unterteilt.\",\n",
    "    \"Im Rahmen der Präzisierung der Nachhaltigkeitsstrategie der KION Group im Berichtsjahr wurde \"\n",
    "    \"das Handlungsfeld „Product and solution safety“ weiterentwickelt und sein Geltungsbereich ausgeweitet. Der Fokus liegt nach wie vor auf der Bereitstellung von anwenderorientierten, sicheren und \"\n",
    "    \"ergonomischen Produkten und Lösungen. Hinzukommen nun die Aspekte der attraktiven Preisgestaltung und Branchen-Standards.\",\n",
    "    \"Die Sicherheit von Kunden sowie der sichere und ergonomische Betrieb aller Produkte und Lösungen der KION Group ist seit jeher ein Schwerpunkt der Produktentwicklung im Konzern. Die KION \"\n",
    "    \"Group erachtet ihr Sicherheitsportfolio als herausragend und branchenweit führend. Kunden sollen \"\n",
    "    \"ein wettbewerbsfähiges und attraktives Wertangebot mit kostengünstigen Sicherheitsfunktionen erhalten.\",\n",
    "    \"Ziel der KION Group ist es, schwere oder gar tödliche Unfälle bei Kunden vollständig zu vermeiden. \"\n",
    "    \"Durch kontinuierliche Verbesserung und Bereitstellung von weiteren hocheffizienten Sicherheitslö-\"\n",
    "    \"sungen möchte die KION Group das Risiko für Umwelt und Personal sowie Sachschäden verringern. Der Konzern wird zudem sein Portfolio an sicheren Produkten um softwarebasierte Lösungen \"\n",
    "    \"erweitern und aktiv neue Sicherheitsstandards vorantreiben.\",\n",
    "    \"Aufgrund der unterschiedlichen Produkte und Geschäftsmodelle verfolgen die Segmente ITS und \"\n",
    "    \"SCS differenzierte Ansätze bei der Umsetzung des gemeinsamen Leitbilds. Dazu werden die jeweiligen Strategieaspekte sukzessive weiter ausdefiniert, jeweils hinterlegt mit strategischen Zielen und \"\n",
    "    \"spezifischen Kennzahlen.\"\n",
    "]\n"
   ]
  },
  {
   "cell_type": "code",
   "execution_count": 10,
   "metadata": {},
   "outputs": [],
   "source": [
    "# Splitting the VW sustainability report and loading into vector database\n",
    "\n",
    "destination = \"vector_data/VW\"\n",
    "all_splits = text_splitter.split_documents(data_vw)\n",
    "db = Chroma.from_documents(all_splits, embedding, persist_directory=destination)"
   ]
  },
  {
   "cell_type": "code",
   "execution_count": 18,
   "metadata": {},
   "outputs": [],
   "source": [
    "# Splitting the BMW sustainability report and loading into vector database\n",
    "\n",
    "destination = \"vector_data/Mercedes\"\n",
    "all_splits = text_splitter.split_documents(data_mercedes)\n",
    "db = Chroma.from_documents(all_splits, embedding, persist_directory=destination)"
   ]
  },
  {
   "cell_type": "code",
   "execution_count": 19,
   "metadata": {},
   "outputs": [],
   "source": [
    "# Splitting the BMW sustainability report and loading into vector database\n",
    "\n",
    "destination = \"vector_data/BMW\"\n",
    "all_splits = text_splitter.split_documents(data_bmw)\n",
    "db = Chroma.from_documents(all_splits, embedding, persist_directory=destination)"
   ]
  },
  {
   "cell_type": "code",
   "execution_count": 20,
   "metadata": {},
   "outputs": [],
   "source": [
    "# Splitting the Audi sustainability report and loading into vector database\n",
    "\n",
    "destination = \"vector_data/Audi\"\n",
    "all_splits = text_splitter.split_documents(data_audi)\n",
    "db = Chroma.from_documents(all_splits, embedding, persist_directory=destination)"
   ]
  },
  {
   "cell_type": "code",
   "execution_count": 21,
   "metadata": {},
   "outputs": [],
   "source": [
    "# Splitting the Porsche sustainability report and loading into vector database\n",
    "\n",
    "destination = \"vector_data/Porsche\"\n",
    "all_splits = text_splitter.split_documents(data_porsche)\n",
    "db = Chroma.from_documents(all_splits, embedding, persist_directory=destination)"
   ]
  },
  {
   "cell_type": "code",
   "execution_count": 4,
   "metadata": {},
   "outputs": [],
   "source": [
    "# Splitting the KION 2022 Q1 report and loading into vector database\n",
    "\n",
    "destination = \"vector_data/KION_Public/2022_Q1\"\n",
    "all_splits = text_splitter.split_documents(data_2022_Q1)\n",
    "db = Chroma.from_documents(all_splits, embedding, persist_directory=destination)"
   ]
  },
  {
   "cell_type": "code",
   "execution_count": 6,
   "metadata": {},
   "outputs": [],
   "source": [
    "# Splitting the KION 2022 Q1 report and loading into vector database\n",
    "\n",
    "destination = \"vector_data/KION_Public/2022_Q2\"\n",
    "all_splits = text_splitter.split_documents(data_2022_Q2)\n",
    "db = Chroma.from_documents(all_splits, embedding, persist_directory=destination)"
   ]
  },
  {
   "cell_type": "code",
   "execution_count": 7,
   "metadata": {},
   "outputs": [],
   "source": [
    "# Splitting the KION 2022 Q1 report and loading into vector database\n",
    "\n",
    "destination = \"vector_data/KION_Public/2022_Q3\"\n",
    "all_splits = text_splitter.split_documents(data_2022_Q3)\n",
    "db = Chroma.from_documents(all_splits, embedding, persist_directory=destination)"
   ]
  },
  {
   "cell_type": "code",
   "execution_count": 8,
   "metadata": {},
   "outputs": [],
   "source": [
    "# Splitting the KION 2022 Q1 report and loading into vector database\n",
    "\n",
    "destination = \"vector_data/KION_Public/2022_Q4\"\n",
    "all_splits = text_splitter.split_documents(data_2022_Q4)\n",
    "db = Chroma.from_documents(all_splits, embedding, persist_directory=destination)"
   ]
  },
  {
   "cell_type": "code",
   "execution_count": 13,
   "metadata": {},
   "outputs": [],
   "source": [
    "# Splitting the KION 2023 Q1 report and loading into vector database\n",
    "\n",
    "destination = \"vector_data/KION_Public/2023_Q1\"\n",
    "all_splits = text_splitter.split_documents(data_2023_Q1)\n",
    "db = Chroma.from_documents(all_splits, embedding, persist_directory=destination)"
   ]
  },
  {
   "cell_type": "code",
   "execution_count": 10,
   "metadata": {},
   "outputs": [],
   "source": [
    "# Splitting the KION 2023 Q1 report and loading into vector database\n",
    "\n",
    "destination = \"vector_data/KION_Public/2023_Q2\"\n",
    "all_splits = text_splitter.split_documents(data_2023_Q2)\n",
    "db = Chroma.from_documents(all_splits, embedding, persist_directory=destination)"
   ]
  },
  {
   "cell_type": "code",
   "execution_count": 14,
   "metadata": {},
   "outputs": [],
   "source": [
    "# Splitting the KION 2023 Q1 report and loading into vector database\n",
    "\n",
    "destination = \"vector_data/KION_Public/2023_Q3\"\n",
    "all_splits = text_splitter.split_documents(data_2023_Q1)\n",
    "db = Chroma.from_documents(all_splits, embedding, persist_directory=destination)"
   ]
  },
  {
   "cell_type": "markdown",
   "metadata": {},
   "source": [
    "### Testing code:"
   ]
  },
  {
   "cell_type": "code",
   "execution_count": null,
   "metadata": {},
   "outputs": [
    {
     "data": {
      "text/plain": [
       "Document(page_content='2022Sustainability Report', metadata={'source': '/home/ssever/contradictory-information/src/Data/ESG_Reports/English/2022_VWGroup_Sustainability_Report.pdf', 'page': 0})"
      ]
     },
     "metadata": {},
     "output_type": "display_data"
    }
   ],
   "source": [
    "data_vw = PyPDFLoader(\"/home/ssever/contradictory-information/src/Data/ESG_Reports/English/2022_VWGroup_Sustainability_Report.pdf\").load()\n",
    "split = text_splitter.split_documents(data_vw)"
   ]
  },
  {
   "cell_type": "code",
   "execution_count": null,
   "metadata": {},
   "outputs": [],
   "source": [
    "data_vw"
   ]
  },
  {
   "cell_type": "code",
   "execution_count": null,
   "metadata": {},
   "outputs": [],
   "source": [
    "split[0:3]"
   ]
  },
  {
   "cell_type": "code",
   "execution_count": null,
   "metadata": {},
   "outputs": [],
   "source": [
    "text_splitter = RecursiveCharacterTextSplitter(chunk_size = 200, chunk_overlap = 200, add_start_index = True)\n",
    "\n",
    "data_2022_Q2 = PyPDFLoader(\"/home/ssever/contradictory-information/src/Data/KION_Public/2022_Q2/KION_GROUP_Pressemitteilung_HJ1_2022.pdf\").load()\n",
    "\n",
    "test_split = text_splitter.split_documents(data_2022_Q2)\n",
    "\n",
    "test_split[0]"
   ]
  },
  {
   "cell_type": "code",
   "execution_count": 18,
   "metadata": {},
   "outputs": [],
   "source": [
    "excel_file = '/home/ssever/contradictory-information/src/Data/KION_Public/Quartalszahlen-Q2-2023.xlsx'\n",
    "all_sheets = pd.read_excel(excel_file, sheet_name=None)\n",
    "sheets = all_sheets.keys()\n",
    "\n",
    "for sheet_name in sheets:\n",
    "    sheet = pd.read_excel(excel_file, sheet_name=sheet_name)\n",
    "    sheet.to_csv(\"Data/%s.csv\" % sheet_name, index=False)\n"
   ]
  },
  {
   "cell_type": "code",
   "execution_count": 28,
   "metadata": {},
   "outputs": [],
   "source": [
    "directory_path = \"/home/ssever/contradictory-information/src/Data/KION_Public/2022_Q1\"\n",
    "\n",
    "loaded_pdfs = []\n",
    "\n",
    "for fn in os.listdir(directory_path):\n",
    "\n",
    "    if fn.endswith(\".pdf\"):\n",
    "\n",
    "        filepath = os.path.join(directory_path, fn)\n",
    "\n",
    "        pdf_loader = PyPDFLoader(filepath).load()\n",
    "\n",
    "        loaded_pdfs.append(pdf_loader)"
   ]
  },
  {
   "cell_type": "code",
   "execution_count": 29,
   "metadata": {},
   "outputs": [
    {
     "data": {
      "text/plain": [
       "4"
      ]
     },
     "execution_count": 29,
     "metadata": {},
     "output_type": "execute_result"
    }
   ],
   "source": [
    "len(loaded_pdfs)"
   ]
  },
  {
   "cell_type": "code",
   "execution_count": 31,
   "metadata": {},
   "outputs": [],
   "source": [
    "destination = \"vector_data/KION_Public/Q1_2022\"\n",
    "\n",
    "for loaded_pdf in loaded_pdfs:\n",
    "    all_splits = text_splitter.split_documents(loaded_pdf)\n",
    "    db = Chroma.from_documents(all_splits, embedding, persist_directory=destination)\n"
   ]
  },
  {
   "cell_type": "code",
   "execution_count": null,
   "metadata": {},
   "outputs": [],
   "source": [
    "\n",
    "top_directory = \"/home/ssever/contradictory-information/src/Data/KION_Public/\"\n",
    "\n",
    "# Walk through the directory\n",
    "for dirpath, dirnames, filenames in os.walk(top_directory):\n",
    "    print(f\"Currently in directory: {dirpath}\")\n",
    "    \n",
    "    for dirname in dirnames:\n",
    "        print(f\"Found subdirectory: {dirname}\")\n",
    "\n",
    "    for filename in filenames:\n",
    "        print(f\"Found file: {filename}\")\n",
    "        full_path = os.path.join(dirpath, filename)\n"
   ]
  },
  {
   "cell_type": "code",
   "execution_count": 6,
   "metadata": {},
   "outputs": [
    {
     "data": {
      "text/plain": [
       "(2, 4)"
      ]
     },
     "execution_count": 6,
     "metadata": {},
     "output_type": "execute_result"
    }
   ],
   "source": [
    "import numpy as np\n",
    "\n",
    "list = np.array([[1, 2, 3, 4], [1, 2, 3, 4]])\n",
    "list.shape"
   ]
  },
  {
   "cell_type": "markdown",
   "metadata": {},
   "source": [
    "#### **New attempt**"
   ]
  },
  {
   "cell_type": "code",
   "execution_count": null,
   "metadata": {},
   "outputs": [],
   "source": []
  }
 ],
 "metadata": {
  "kernelspec": {
   "display_name": "Python 3",
   "language": "python",
   "name": "python3"
  },
  "language_info": {
   "codemirror_mode": {
    "name": "ipython",
    "version": 3
   },
   "file_extension": ".py",
   "mimetype": "text/x-python",
   "name": "python",
   "nbconvert_exporter": "python",
   "pygments_lexer": "ipython3",
   "version": "3.10.12"
  }
 },
 "nbformat": 4,
 "nbformat_minor": 2
}
